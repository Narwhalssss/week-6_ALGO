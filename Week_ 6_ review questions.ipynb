{
 "cells": [
  {
   "cell_type": "code",
   "execution_count": null,
   "metadata": {},
   "outputs": [],
   "source": [
    "# review questiions\n",
    "\n",
    "# B\n",
    "# D\n",
    "# A\n",
    "# B\n",
    "# B\n",
    "# C\n",
    "# A\n",
    "# C\n",
    "# C\n",
    "\n"
   ]
  }
 ],
 "metadata": {
  "kernelspec": {
   "display_name": "Python 3.10.7 64-bit",
   "language": "python",
   "name": "python3"
  },
  "language_info": {
   "codemirror_mode": {
    "name": "ipython",
    "version": 3
   },
   "file_extension": ".py",
   "mimetype": "text/x-python",
   "name": "python",
   "nbconvert_exporter": "python",
   "pygments_lexer": "ipython3",
   "version": "3.10.7"
  },
  "orig_nbformat": 4,
  "vscode": {
   "interpreter": {
    "hash": "996dfd79f88377ce15e98a2b0075db32240cafe6d8e904602c74215488f12733"
   }
  }
 },
 "nbformat": 4,
 "nbformat_minor": 2
}
