{
 "cells": [
  {
   "cell_type": "code",
   "execution_count": 2,
   "metadata": {},
   "outputs": [
    {
     "name": "stdout",
     "output_type": "stream",
     "text": [
      "['bedroll', 'bread loaf', 'dagger', 'xylophone']\n",
      "['xylophone', 'bedroll', 'bread loaf']\n",
      "550\n"
     ]
    }
   ],
   "source": [
    "#exercise 1\n",
    "\n",
    "inventory = {\n",
    "'gold' : 500,\n",
    "'pouch' : ['flint', 'twine', 'gemstone'],\n",
    "'backpack' : ['xylophone','dagger', 'bedroll','bread loaf']\n",
    "}\n",
    "\n",
    "inventory['pockets'] = ['seashell','strange berry','lint']\n",
    "\n",
    "x = sorted(inventory['backpack'])\n",
    "print(x)\n",
    "\n",
    "inventory['backpack'].remove('dagger')\n",
    "print(inventory['backpack'])\n",
    "\n",
    "inventory['gold'] += 50\n",
    "print(inventory['gold'])\n",
    " "
   ]
  },
  {
   "cell_type": "code",
   "execution_count": 10,
   "metadata": {},
   "outputs": [
    {
     "name": "stdout",
     "output_type": "stream",
     "text": [
      "bananna\n",
      "prices: 2\n",
      "stocks: 6\n",
      "apple\n",
      "prices: 2\n",
      "stocks: 0\n",
      "orange\n",
      "prices: 1.5\n",
      "stocks: 32\n",
      "pear\n",
      "prices: 3\n",
      "stocks: 15\n",
      "Total: 105.0\n"
     ]
    }
   ],
   "source": [
    "#exercise 2\n",
    "\n",
    "price = {\n",
    "'banana' : 4,\n",
    "'apple' : 2,\n",
    "'orange' : 1.5,\n",
    "'pear' : 3\n",
    "}\n",
    "\n",
    "stock = {\n",
    "\"banana\": 6,\n",
    "\"apple\": 0,\n",
    "\"orange\": 32,\n",
    "\"pear\": 15\n",
    "}\n",
    "\n",
    "for x in price.keys():\n",
    "    print(x)\n",
    "    print(\"prices:\", price[x])\n",
    "    print(\"stocks:\", stock[x])\n",
    "\n",
    "total = 0\n",
    "\n",
    "for y in price.keys():\n",
    "    prices = price[y] * stock[y]\n",
    "    total = total + prices\n",
    "\n",
    "print(\"Total:\", total)"
   ]
  },
  {
   "cell_type": "code",
   "execution_count": 12,
   "metadata": {},
   "outputs": [
    {
     "name": "stdout",
     "output_type": "stream",
     "text": [
      "5.5\n"
     ]
    }
   ],
   "source": [
    "#exercise 3\n",
    "\n",
    "groceries = [\"banana\", \"orange\", \"apple\"]\n",
    "\n",
    "stock = {\n",
    " \"banana\": 6,\n",
    " \"apple\": 0,\n",
    " \"orange\": 32,\n",
    " \"pear\": 15\n",
    "}\n",
    "prices = {\n",
    " \"banana\": 4,\n",
    " \"apple\": 2,\n",
    " \"orange\": 1.5,\n",
    " \"pear\": 3\n",
    "}\n",
    "def compute_bills(fruit):\n",
    "    total = 0\n",
    "    for x in fruit:\n",
    "        if stock[x] > 0:\n",
    "            stock[x] -= 1\n",
    "            total += prices[x]\n",
    "    return total\n",
    "    \n",
    "print(compute_bills(groceries))"
   ]
  },
  {
   "cell_type": "code",
   "execution_count": 13,
   "metadata": {},
   "outputs": [
    {
     "name": "stdout",
     "output_type": "stream",
     "text": [
      "Eren\n",
      "[90.0, 97.0, 75.0, 92.0]\n",
      "[88.0, 40.0, 94.0]\n",
      "[75.0, 90.0]\n",
      "Mikasa\n",
      "[100.0, 92.0, 98.0, 100.0]\n",
      "[82.0, 83.0, 91.0]\n",
      "[89.0, 97.0]\n",
      "Armin\n",
      "[0.0, 87.0, 75.0, 22.0]\n",
      "[0.0, 75.0, 78.0]\n",
      "[100.0, 100.0]\n",
      "Eren's grade letter: B\n",
      "student class average is: 83.86666666666666\n",
      "student class letter grade is: B\n"
     ]
    }
   ],
   "source": [
    "#exercise 4\n",
    "\n",
    "eren = {\n",
    "\"name\": \"Eren\",\n",
    "\"homework\": [90.0,97.0,75.0,92.0],\n",
    "\"quizzes\": [88.0,40.0,94.0],\n",
    "\"tests\": [75.0,90.0]\n",
    "}\n",
    "mikasa = {\n",
    "\"name\": \"Mikasa\",\n",
    "\"homework\": [100.0, 92.0, 98.0, 100.0],\n",
    "\"quizzes\": [82.0, 83.0, 91.0],\n",
    "\"tests\": [89.0, 97.0]\n",
    "}\n",
    "armin = {\n",
    "\"name\": \"Armin\",\n",
    "\"homework\": [0.0, 87.0, 75.0, 22.0],\n",
    "\"quizzes\": [0.0, 75.0, 78.0],\n",
    "\"tests\": [100.0, 100.0]\n",
    "}\n",
    "\n",
    "students = [eren,mikasa,armin]\n",
    "for i in students:\n",
    "    print(i[\"name\"])\n",
    "    print(i[\"homework\"])\n",
    "    print(i[\"quizzes\"])\n",
    "    print(i[\"tests\"])\n",
    "\n",
    "def average(numbers):\n",
    "    total = sum(numbers)\n",
    "    return total / len(numbers)\n",
    "\n",
    "def get_average(students):\n",
    "    homework = average(students[\"homework\"])\n",
    "    quizzes = average(students[\"quizzes\"])\n",
    "    tests = average(students[\"tests\"])\n",
    "    total = (0.1*homework)  + (0.3*quizzes) + (0.6*tests)\n",
    "    return total\n",
    "\n",
    "def get_letter_grade(score):\n",
    "    if score >= 90:\n",
    "        return \"A\"\n",
    "    elif score >= 80:\n",
    "        return \"B\"\n",
    "    elif score >= 70:\n",
    "        return \"C\"\n",
    "    elif score >= 60:\n",
    "        return \"D\"\n",
    "    else:\n",
    "        return \"F\"\n",
    "    \n",
    "def get_class_average(students):\n",
    "    results = []\n",
    "    for student in students:\n",
    "        results.append(get_average(student))\n",
    "    return average(results)\n",
    "\n",
    "print(\"Eren's grade letter:\",get_letter_grade(get_average(eren)))\n",
    "print(\"student class average is:\", get_class_average(students))\n",
    "print(\"student class letter grade is:\", get_letter_grade(get_class_average(students)))\n",
    "\n",
    "\n"
   ]
  }
 ],
 "metadata": {
  "kernelspec": {
   "display_name": "Python 3.10.7 64-bit",
   "language": "python",
   "name": "python3"
  },
  "language_info": {
   "codemirror_mode": {
    "name": "ipython",
    "version": 3
   },
   "file_extension": ".py",
   "mimetype": "text/x-python",
   "name": "python",
   "nbconvert_exporter": "python",
   "pygments_lexer": "ipython3",
   "version": "3.10.7"
  },
  "orig_nbformat": 4,
  "vscode": {
   "interpreter": {
    "hash": "996dfd79f88377ce15e98a2b0075db32240cafe6d8e904602c74215488f12733"
   }
  }
 },
 "nbformat": 4,
 "nbformat_minor": 2
}
